{
 "cells": [
  {
   "cell_type": "code",
   "execution_count": 2,
   "id": "a7efefe4-bce7-4329-bf99-be73a382279b",
   "metadata": {},
   "outputs": [],
   "source": [
    "import pandas as pd\n",
    "import numpy as np"
   ]
  },
  {
   "cell_type": "code",
   "execution_count": 56,
   "id": "84edd1a6-3648-4021-b1a4-79b86b22aa67",
   "metadata": {},
   "outputs": [],
   "source": [
    "oregon = pd.read_csv(\"OR_quarterly_aggregation.csv\")\n",
    "washington = pd.read_csv(\"WA_Hospital_Financial_Quarterly_Aggregate_Report_20250520.csv\")"
   ]
  },
  {
   "cell_type": "code",
   "execution_count": 58,
   "id": "56430891-cabf-4752-bcf4-6e254c3c984f",
   "metadata": {},
   "outputs": [],
   "source": [
    "# get the columns related to 'Expense' in both wa and or datasets\n",
    "expense_cols_or = [column for column in oregon.columns if 'Expense' in column]\n",
    "expense_cols_wa = [column for column in washington.columns if 'Expense' in column]"
   ]
  },
  {
   "cell_type": "code",
   "execution_count": 60,
   "id": "45b4fd51-75f0-4ef6-850b-a2fcb214c3a7",
   "metadata": {},
   "outputs": [],
   "source": [
    "# add the state name for distinguishing between each when combining the datasets\n",
    "oregon['State'] = 'Oregon'\n",
    "washington['State'] = 'Washington'"
   ]
  },
  {
   "cell_type": "code",
   "execution_count": 64,
   "id": "3385de3b-9910-49dd-a2de-16f5999fbfff",
   "metadata": {},
   "outputs": [],
   "source": [
    "# get the relevant columns for name, quarter, year, and state identification\n",
    "rel_or_cols = ['State', 'Hospital Name', 'Year', 'Quarter']\n",
    "rel_wa_cols = ['State', 'Hospital_Name', 'Year', 'Quarter']"
   ]
  },
  {
   "cell_type": "code",
   "execution_count": 72,
   "id": "1a988031-4afb-4860-8e59-7d3746456d2a",
   "metadata": {},
   "outputs": [],
   "source": [
    "# combine the wanted columns for both datasets\n",
    "wanted_or_cols = rel_or_cols + expense_cols_or\n",
    "wanted_wa_cols = rel_wa_cols + expense_cols_wa"
   ]
  },
  {
   "cell_type": "code",
   "execution_count": 74,
   "id": "80a90fdc-47d2-4625-93f1-ade96ccb2fd2",
   "metadata": {},
   "outputs": [],
   "source": [
    "# create a new dataframe with the wanted columns\n",
    "df_or = oregon[wanted_or_cols] \n",
    "df_wa = washington[wanted_wa_cols]"
   ]
  },
  {
   "cell_type": "code",
   "execution_count": 90,
   "id": "9de34dfe-d263-4510-bfdb-be6f5e7a47e0",
   "metadata": {},
   "outputs": [
    {
     "data": {
      "text/plain": [
       "(Index(['State', 'Hospital_Name', 'Year', 'Quarter',\n",
       "        'Employee_Benefit_Expenses', 'Supply_Expenses', 'Depreciation_Expense',\n",
       "        'Interest_Expenses', 'Professional_Fee_Expense', 'All_Other_Expenses',\n",
       "        'Total_Operating_Expenses'],\n",
       "       dtype='object'),\n",
       " 11)"
      ]
     },
     "execution_count": 90,
     "metadata": {},
     "output_type": "execute_result"
    }
   ],
   "source": [
    "df_wa.columns, len(df_wa.columns)"
   ]
  },
  {
   "cell_type": "code",
   "execution_count": 92,
   "id": "3369e0c0-3b02-41be-8b34-5ca772a99ba7",
   "metadata": {},
   "outputs": [
    {
     "data": {
      "text/plain": [
       "(Index(['State', 'Hospital Name', 'Year', 'Quarter', 'Benefit Expense',\n",
       "        'Supply Expense', 'Depreciation Expense', 'Interest Expense',\n",
       "        'Other Expense', 'Total Operating Expense', 'Non Operating Expense'],\n",
       "       dtype='object'),\n",
       " 11)"
      ]
     },
     "execution_count": 92,
     "metadata": {},
     "output_type": "execute_result"
    }
   ],
   "source": [
    "df_or.columns, len(df_or.columns) "
   ]
  },
  {
   "cell_type": "code",
   "execution_count": 94,
   "id": "6e786e9a-4182-4a8c-b723-138c4f720457",
   "metadata": {},
   "outputs": [],
   "source": [
    "# change the oregon column names to match those of washington \n",
    "or_to_wa_mapping = {\n",
    "    'State': 'State',\n",
    "    'Hospital Name': 'Hospital_Name',\n",
    "    'Year': 'Year',\n",
    "    'Quarter': 'Quarter',\n",
    "    'Benefit Expense': 'Employee_Benefit_Expenses',\n",
    "    'Supply Expense': 'Supply_Expenses',\n",
    "    'Depreciation Expense': 'Depreciation_Expense',\n",
    "    'Interest Expense': 'Interest_Expenses',\n",
    "    'Other Expense': 'All_Other_Expenses',\n",
    "    'Total Operating Expense': 'Total_Operating_Expenses',\n",
    "    'Non Operating Expense': 'Professional_Fee_Expense'\n",
    "}\n",
    "\n",
    "df_or = df_or.rename(columns=or_to_wa_mapping)"
   ]
  },
  {
   "cell_type": "code",
   "execution_count": 102,
   "id": "ccb3fd1a-2917-4997-ac36-3fe2a2cc0e64",
   "metadata": {},
   "outputs": [],
   "source": [
    "# combine or and wa since their column names match now\n",
    "df = pd.concat([df_wa, df_or], ignore_index=True)"
   ]
  },
  {
   "cell_type": "code",
   "execution_count": 104,
   "id": "249bbfc6-0025-414e-99e8-91dff4bfef09",
   "metadata": {},
   "outputs": [
    {
     "data": {
      "text/html": [
       "<div>\n",
       "<style scoped>\n",
       "    .dataframe tbody tr th:only-of-type {\n",
       "        vertical-align: middle;\n",
       "    }\n",
       "\n",
       "    .dataframe tbody tr th {\n",
       "        vertical-align: top;\n",
       "    }\n",
       "\n",
       "    .dataframe thead th {\n",
       "        text-align: right;\n",
       "    }\n",
       "</style>\n",
       "<table border=\"1\" class=\"dataframe\">\n",
       "  <thead>\n",
       "    <tr style=\"text-align: right;\">\n",
       "      <th></th>\n",
       "      <th>State</th>\n",
       "      <th>Hospital_Name</th>\n",
       "      <th>Year</th>\n",
       "      <th>Quarter</th>\n",
       "      <th>Employee_Benefit_Expenses</th>\n",
       "      <th>Supply_Expenses</th>\n",
       "      <th>Depreciation_Expense</th>\n",
       "      <th>Interest_Expenses</th>\n",
       "      <th>Professional_Fee_Expense</th>\n",
       "      <th>All_Other_Expenses</th>\n",
       "      <th>Total_Operating_Expenses</th>\n",
       "    </tr>\n",
       "  </thead>\n",
       "  <tbody>\n",
       "    <tr>\n",
       "      <th>0</th>\n",
       "      <td>Washington</td>\n",
       "      <td>Shriners Hospitals for Children - Spokane</td>\n",
       "      <td>2019</td>\n",
       "      <td>1</td>\n",
       "      <td>893913.0</td>\n",
       "      <td>676993.0</td>\n",
       "      <td>220575.0</td>\n",
       "      <td>0.0</td>\n",
       "      <td>NaN</td>\n",
       "      <td>319776.0</td>\n",
       "      <td>5577278.0</td>\n",
       "    </tr>\n",
       "    <tr>\n",
       "      <th>1</th>\n",
       "      <td>Washington</td>\n",
       "      <td>South Sound Behavioral Hospital</td>\n",
       "      <td>2019</td>\n",
       "      <td>4</td>\n",
       "      <td>299272.0</td>\n",
       "      <td>103542.0</td>\n",
       "      <td>158169.0</td>\n",
       "      <td>0.0</td>\n",
       "      <td>NaN</td>\n",
       "      <td>977846.0</td>\n",
       "      <td>3367274.0</td>\n",
       "    </tr>\n",
       "    <tr>\n",
       "      <th>2</th>\n",
       "      <td>Washington</td>\n",
       "      <td>Shriners Hospitals for Children - Spokane</td>\n",
       "      <td>2021</td>\n",
       "      <td>4</td>\n",
       "      <td>1112987.0</td>\n",
       "      <td>883997.0</td>\n",
       "      <td>428545.0</td>\n",
       "      <td>0.0</td>\n",
       "      <td>NaN</td>\n",
       "      <td>822974.0</td>\n",
       "      <td>5818219.0</td>\n",
       "    </tr>\n",
       "    <tr>\n",
       "      <th>3</th>\n",
       "      <td>Washington</td>\n",
       "      <td>Public Hospital District No 1 of Mason County WA</td>\n",
       "      <td>2018</td>\n",
       "      <td>1</td>\n",
       "      <td>3812319.0</td>\n",
       "      <td>2756277.0</td>\n",
       "      <td>1697822.0</td>\n",
       "      <td>227712.0</td>\n",
       "      <td>NaN</td>\n",
       "      <td>4335251.0</td>\n",
       "      <td>24997812.0</td>\n",
       "    </tr>\n",
       "    <tr>\n",
       "      <th>4</th>\n",
       "      <td>Washington</td>\n",
       "      <td>Whitman Hospital &amp; Medical Clinics</td>\n",
       "      <td>2018</td>\n",
       "      <td>1</td>\n",
       "      <td>901743.0</td>\n",
       "      <td>715585.0</td>\n",
       "      <td>794131.0</td>\n",
       "      <td>93474.0</td>\n",
       "      <td>NaN</td>\n",
       "      <td>1795317.0</td>\n",
       "      <td>7145217.0</td>\n",
       "    </tr>\n",
       "  </tbody>\n",
       "</table>\n",
       "</div>"
      ],
      "text/plain": [
       "        State                                     Hospital_Name  Year  \\\n",
       "0  Washington         Shriners Hospitals for Children - Spokane  2019   \n",
       "1  Washington                   South Sound Behavioral Hospital  2019   \n",
       "2  Washington         Shriners Hospitals for Children - Spokane  2021   \n",
       "3  Washington  Public Hospital District No 1 of Mason County WA  2018   \n",
       "4  Washington                Whitman Hospital & Medical Clinics  2018   \n",
       "\n",
       "   Quarter  Employee_Benefit_Expenses  Supply_Expenses  Depreciation_Expense  \\\n",
       "0        1                   893913.0         676993.0              220575.0   \n",
       "1        4                   299272.0         103542.0              158169.0   \n",
       "2        4                  1112987.0         883997.0              428545.0   \n",
       "3        1                  3812319.0        2756277.0             1697822.0   \n",
       "4        1                   901743.0         715585.0              794131.0   \n",
       "\n",
       "   Interest_Expenses  Professional_Fee_Expense  All_Other_Expenses  \\\n",
       "0                0.0                       NaN            319776.0   \n",
       "1                0.0                       NaN            977846.0   \n",
       "2                0.0                       NaN            822974.0   \n",
       "3           227712.0                       NaN           4335251.0   \n",
       "4            93474.0                       NaN           1795317.0   \n",
       "\n",
       "   Total_Operating_Expenses  \n",
       "0                 5577278.0  \n",
       "1                 3367274.0  \n",
       "2                 5818219.0  \n",
       "3                24997812.0  \n",
       "4                 7145217.0  "
      ]
     },
     "execution_count": 104,
     "metadata": {},
     "output_type": "execute_result"
    }
   ],
   "source": [
    "df.head()"
   ]
  },
  {
   "cell_type": "code",
   "execution_count": null,
   "id": "21a502c1-ca33-4541-b69b-9ada3d81057c",
   "metadata": {},
   "outputs": [],
   "source": []
  }
 ],
 "metadata": {
  "kernelspec": {
   "display_name": "Python 3 (ipykernel)",
   "language": "python",
   "name": "python3"
  },
  "language_info": {
   "codemirror_mode": {
    "name": "ipython",
    "version": 3
   },
   "file_extension": ".py",
   "mimetype": "text/x-python",
   "name": "python",
   "nbconvert_exporter": "python",
   "pygments_lexer": "ipython3",
   "version": "3.12.4"
  }
 },
 "nbformat": 4,
 "nbformat_minor": 5
}
